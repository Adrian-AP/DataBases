{
 "cells": [
  {
   "attachments": {},
   "cell_type": "markdown",
   "metadata": {},
   "source": [
    "## Sobre un Dataset de datos a elegir, se debe realizar estos ejercicios:"
   ]
  },
  {
   "attachments": {},
   "cell_type": "markdown",
   "metadata": {},
   "source": [
    "1. En primer lugar vamos a cargar todas librerías necesarias para el la creación y uso de la BBDD."
   ]
  },
  {
   "cell_type": "code",
   "execution_count": 132,
   "metadata": {},
   "outputs": [],
   "source": [
    "import pandas as pd\n",
    "import json\n",
    "import pymongo\n",
    "from pymongo import MongoClient\n",
    "from plotnine import *\n",
    "\n"
   ]
  },
  {
   "attachments": {},
   "cell_type": "markdown",
   "metadata": {},
   "source": [
    "2. Para la creación de la BBDD no relacional, vamos a utilizar el fichero pkedex en formato json. Se lee con la función open."
   ]
  },
  {
   "cell_type": "code",
   "execution_count": 119,
   "metadata": {},
   "outputs": [
    {
     "name": "stdout",
     "output_type": "stream",
     "text": [
      "El fichero se puede leer.\n"
     ]
    }
   ],
   "source": [
    "# Leemos el fichero pokedes en formato json.\n",
    "\n",
    "with open(r'./pokedex.json', 'r') as lectura:\n",
    "    \n",
    "    if lectura.readable() == True:\n",
    "        \n",
    "        print(\"El fichero se puede leer.\")\n",
    "        \n",
    "        salida = lectura.readlines()\n",
    "    \n",
    "    else:\n",
    "        \n",
    "        print('El fichero no se puede leer.')\n",
    "        "
   ]
  },
  {
   "attachments": {},
   "cell_type": "markdown",
   "metadata": {},
   "source": [
    "3. Una vez obtenidos los datos, los convertirmos a formato json y los metemos dentro de un diccionario. Se elimina la etiquite '_id' antigua."
   ]
  },
  {
   "cell_type": "code",
   "execution_count": 120,
   "metadata": {},
   "outputs": [],
   "source": [
    "\n",
    "# Creamos un diccionario cuya clave unitaria es el número del pokemon.\n",
    "\n",
    "pokedex = []\n",
    "\n",
    "for i in salida:\n",
    "    linea = {}\n",
    "    a= json.loads(i)\n",
    "    linea['description'] = a\n",
    "    linea['description'].pop('_id')\n",
    "   \n",
    "\n",
    "    pokedex.append(linea)\n",
    "    "
   ]
  },
  {
   "attachments": {},
   "cell_type": "markdown",
   "metadata": {},
   "source": [
    "- Realizamos la conexión con MongoDB al serviror local, además, se excepcionan lso errores por tiempo y/o fallo en la conexión."
   ]
  },
  {
   "cell_type": "code",
   "execution_count": 121,
   "metadata": {},
   "outputs": [
    {
     "name": "stdout",
     "output_type": "stream",
     "text": [
      "Conexión realizada con éxito.\n"
     ]
    }
   ],
   "source": [
    "# Se realiza conexion al servidor local de MongoDB, se levantan errores de tiempo y/o conexión fallida.\n",
    "\n",
    "try:\n",
    "    \n",
    "    conexion = MongoClient(\"localhost\",27017,serverSelectionTimeoutMS=1000)\n",
    "    print(\"Conexión realizada con éxito.\")\n",
    "    \n",
    "except pymongo.errors.ServerSelectionTimeoutError as errorTiempo:\n",
    "    \n",
    "    print(\"MongoDB no responde. \" + errorTiempo) \n",
    "    pass\n",
    "\n",
    "except pymongo.errors.ConnectionFailure as errorConexión:\n",
    "    \n",
    "    print(\"Error al conectarse a MongoDB. \" + errorConexión) \n",
    "    pass"
   ]
  },
  {
   "attachments": {},
   "cell_type": "markdown",
   "metadata": {},
   "source": [
    "- Creación esquema. Se intenta borrar para en caso de ejecutar todo el escript no duplicar."
   ]
  },
  {
   "cell_type": "code",
   "execution_count": 122,
   "metadata": {},
   "outputs": [],
   "source": [
    "# Cracción del esquema, borra el esquema primero.\n",
    "\n",
    "try:\n",
    "    \n",
    "    conexion.drop_database(\"Pokemon\")\n",
    "    dbs = conexion[\"Pokemon\"]\n",
    "\n",
    "except:\n",
    "\n",
    "    dbs = conexion[\"Pokemon\"]"
   ]
  },
  {
   "attachments": {},
   "cell_type": "markdown",
   "metadata": {},
   "source": [
    "- Crear colección. Se crea la colección, antes de ello, se borra para no duplicarla."
   ]
  },
  {
   "cell_type": "code",
   "execution_count": 123,
   "metadata": {},
   "outputs": [],
   "source": [
    "# Se crea la colección pokedex dentro del esquema Pokemon.En un primer lugar se borra en caso de existir.\n",
    "\n",
    "try:\n",
    "    \n",
    "    dbs.drop_collection(\"Pokedex\")\n",
    "    db = dbs[\"Pokedex\"]\n",
    "\n",
    "except:\n",
    "\n",
    "    db = dbs[\"Pokedex\"]"
   ]
  },
  {
   "attachments": {},
   "cell_type": "markdown",
   "metadata": {},
   "source": [
    "- Insertar la colección. Se insertan los documentos uno por uno."
   ]
  },
  {
   "cell_type": "code",
   "execution_count": 124,
   "metadata": {},
   "outputs": [],
   "source": [
    "# Se inserta en la colección los datos extraidos del fichero Json. Primero borra la collección previa.\n",
    "\n",
    "try:\n",
    "    \n",
    "    db.drop(\"Pokedex\")\n",
    "    for i in pokedex:\n",
    "        db.insert_one(i['description'])\n",
    "\n",
    "except:\n",
    "\n",
    "     for i in pokedex:\n",
    "        db.insert_one(i['description'])"
   ]
  },
  {
   "attachments": {},
   "cell_type": "markdown",
   "metadata": {},
   "source": [
    "- Se comprueba que los documentos se han insertado en la colección. Se transforman a formato tabla (DF) para su visualización."
   ]
  },
  {
   "cell_type": "code",
   "execution_count": 125,
   "metadata": {},
   "outputs": [
    {
     "data": {
      "text/plain": [
       "Index(['_id', 'num', 'name', 'img', 'type', 'height', 'weight', 'candy',\n",
       "       'candy_count', 'egg', 'spawn_chance', 'avg_spawns', 'spawn_time',\n",
       "       'multipliers', 'weaknesses', 'next_evolution', 'prev_evolution'],\n",
       "      dtype='object')"
      ]
     },
     "execution_count": 125,
     "metadata": {},
     "output_type": "execute_result"
    }
   ],
   "source": [
    "\n",
    "query = db.find()\n",
    "libro = pd.DataFrame(query)\n",
    "libro.columns"
   ]
  },
  {
   "attachments": {},
   "cell_type": "markdown",
   "metadata": {},
   "source": [
    "**Explicación de los datos.**\n",
    "\n",
    "- _id = Número PK por cáda documento.\n",
    "- num = Identificador de cada pokemon.\n",
    "- name = Nombre de cada pokemon.\n",
    "- img = Imagen de cada pokemon.\n",
    "- type = Tipo de cada pokemon, a pesar de cada pokemon poder tener más de un tipo, el primero se considera el principal.\n",
    "- height = Altura.\n",
    "- weight = Peso.\n",
    "- Cany = Nombre del caramelo para crear el pokemon.\n",
    "- candy_count = Número de caramelos identificados.\n",
    "- egg = Médida del huevo.\n",
    "- spawn_chance = Probabilidad de aparición.\n",
    "- avg_spawns = Probabilidad media de aparición.\n",
    "- spawn_time = Hora de aparición.\n",
    "- miltipliers = Multiplicador.\n",
    "- weaknesses = Fortalezas.\n",
    "- next_evolution = Próxima evolución.\n",
    "- prev_evolution = Evolución anterior."
   ]
  },
  {
   "attachments": {},
   "cell_type": "markdown",
   "metadata": {},
   "source": [
    "- Revisión de todos los pokemon que están en su fase final y no van a evolucionar más."
   ]
  },
  {
   "cell_type": "code",
   "execution_count": 126,
   "metadata": {},
   "outputs": [
    {
     "name": "stdout",
     "output_type": "stream",
     "text": [
      "El total de pokemon que no evoluciona es: 81 y son:\n",
      "\n",
      "['Venusaur', 'Charizard', 'Butterfree', 'Blastoise', 'Beedrill', 'Raticate', 'Pidgeot', 'Fearow', 'Raichu', 'Sandslash', 'Arbok', 'Nidoqueen', 'Nidoking', 'Clefable', 'Wigglytuff', 'Golbat', 'Ninetales', 'Vileplume', 'Parasect', 'Venomoth', 'Dugtrio', 'Golduck', 'Primeape', 'Persian', 'Arcanine', 'Poliwrath', 'Alakazam', 'Victreebel', 'Machamp', 'Tentacruel', 'Golem', 'Rapidash', 'Magneton', \"Farfetch'd\", 'Dodrio', 'Slowbro', 'Dewgong', 'Cloyster', 'Muk', 'Gengar', 'Onix', 'Kingler', 'Hypno', 'Electrode', 'Exeggutor', 'Hitmonchan', 'Hitmonlee', 'Lickitung', 'Marowak', 'Rhydon', 'Weezing', 'Tangela', 'Chansey', 'Kangaskhan', 'Seadra', 'Mr. Mime', 'Scyther', 'Jynx', 'Electabuzz', 'Seaking', 'Starmie', 'Magmar', 'Pinsir', 'Gyarados', 'Lapras', 'Ditto', 'Tauros', 'Vaporeon', 'Jolteon', 'Flareon', 'Omastar', 'Porygon', 'Kabutops', 'Aerodactyl', 'Articuno', 'Snorlax', 'Zapdos', 'Mewtwo', 'Dragonite', 'Mew', 'Moltres']\n"
     ]
    }
   ],
   "source": [
    "# Hacemos una query para saber el número de pokemon que no evoluciona.\n",
    "\n",
    "where = {\"next_evolution\":{\"$exists\":False}}\n",
    "select = {}\n",
    "\n",
    "datos = db.find(where, select)\n",
    "\n",
    "solucion = pd.DataFrame(datos)\n",
    "\n",
    "print(f'El total de pokemon que no evoluciona es: {solucion.shape[0]} y son:\\n\\n{list(solucion.name)}')"
   ]
  },
  {
   "attachments": {},
   "cell_type": "markdown",
   "metadata": {},
   "source": [
    "- Se revisa también el número de pokemon que nunca han evolucionado y que tampoco están pendiente de evolución."
   ]
  },
  {
   "cell_type": "code",
   "execution_count": 127,
   "metadata": {},
   "outputs": [
    {
     "name": "stdout",
     "output_type": "stream",
     "text": [
      "El total de pokemon que no evoluciona y nunca ha evolucionado es 25 y son:\n"
     ]
    },
    {
     "data": {
      "text/html": [
       "<div>\n",
       "<style scoped>\n",
       "    .dataframe tbody tr th:only-of-type {\n",
       "        vertical-align: middle;\n",
       "    }\n",
       "\n",
       "    .dataframe tbody tr th {\n",
       "        vertical-align: top;\n",
       "    }\n",
       "\n",
       "    .dataframe thead th {\n",
       "        text-align: right;\n",
       "    }\n",
       "</style>\n",
       "<table border=\"1\" class=\"dataframe\">\n",
       "  <thead>\n",
       "    <tr style=\"text-align: right;\">\n",
       "      <th></th>\n",
       "      <th>name</th>\n",
       "    </tr>\n",
       "  </thead>\n",
       "  <tbody>\n",
       "    <tr>\n",
       "      <th>0</th>\n",
       "      <td>Farfetch'd</td>\n",
       "    </tr>\n",
       "    <tr>\n",
       "      <th>1</th>\n",
       "      <td>Onix</td>\n",
       "    </tr>\n",
       "    <tr>\n",
       "      <th>2</th>\n",
       "      <td>Hitmonchan</td>\n",
       "    </tr>\n",
       "    <tr>\n",
       "      <th>3</th>\n",
       "      <td>Hitmonlee</td>\n",
       "    </tr>\n",
       "    <tr>\n",
       "      <th>4</th>\n",
       "      <td>Lickitung</td>\n",
       "    </tr>\n",
       "    <tr>\n",
       "      <th>5</th>\n",
       "      <td>Tangela</td>\n",
       "    </tr>\n",
       "    <tr>\n",
       "      <th>6</th>\n",
       "      <td>Chansey</td>\n",
       "    </tr>\n",
       "    <tr>\n",
       "      <th>7</th>\n",
       "      <td>Kangaskhan</td>\n",
       "    </tr>\n",
       "    <tr>\n",
       "      <th>8</th>\n",
       "      <td>Mr. Mime</td>\n",
       "    </tr>\n",
       "    <tr>\n",
       "      <th>9</th>\n",
       "      <td>Scyther</td>\n",
       "    </tr>\n",
       "    <tr>\n",
       "      <th>10</th>\n",
       "      <td>Jynx</td>\n",
       "    </tr>\n",
       "    <tr>\n",
       "      <th>11</th>\n",
       "      <td>Electabuzz</td>\n",
       "    </tr>\n",
       "    <tr>\n",
       "      <th>12</th>\n",
       "      <td>Magmar</td>\n",
       "    </tr>\n",
       "    <tr>\n",
       "      <th>13</th>\n",
       "      <td>Pinsir</td>\n",
       "    </tr>\n",
       "    <tr>\n",
       "      <th>14</th>\n",
       "      <td>Lapras</td>\n",
       "    </tr>\n",
       "    <tr>\n",
       "      <th>15</th>\n",
       "      <td>Ditto</td>\n",
       "    </tr>\n",
       "    <tr>\n",
       "      <th>16</th>\n",
       "      <td>Tauros</td>\n",
       "    </tr>\n",
       "    <tr>\n",
       "      <th>17</th>\n",
       "      <td>Porygon</td>\n",
       "    </tr>\n",
       "    <tr>\n",
       "      <th>18</th>\n",
       "      <td>Aerodactyl</td>\n",
       "    </tr>\n",
       "    <tr>\n",
       "      <th>19</th>\n",
       "      <td>Articuno</td>\n",
       "    </tr>\n",
       "    <tr>\n",
       "      <th>20</th>\n",
       "      <td>Snorlax</td>\n",
       "    </tr>\n",
       "    <tr>\n",
       "      <th>21</th>\n",
       "      <td>Zapdos</td>\n",
       "    </tr>\n",
       "    <tr>\n",
       "      <th>22</th>\n",
       "      <td>Mewtwo</td>\n",
       "    </tr>\n",
       "    <tr>\n",
       "      <th>23</th>\n",
       "      <td>Mew</td>\n",
       "    </tr>\n",
       "    <tr>\n",
       "      <th>24</th>\n",
       "      <td>Moltres</td>\n",
       "    </tr>\n",
       "  </tbody>\n",
       "</table>\n",
       "</div>"
      ],
      "text/plain": [
       "          name\n",
       "0   Farfetch'd\n",
       "1         Onix\n",
       "2   Hitmonchan\n",
       "3    Hitmonlee\n",
       "4    Lickitung\n",
       "5      Tangela\n",
       "6      Chansey\n",
       "7   Kangaskhan\n",
       "8     Mr. Mime\n",
       "9      Scyther\n",
       "10        Jynx\n",
       "11  Electabuzz\n",
       "12      Magmar\n",
       "13      Pinsir\n",
       "14      Lapras\n",
       "15       Ditto\n",
       "16      Tauros\n",
       "17     Porygon\n",
       "18  Aerodactyl\n",
       "19    Articuno\n",
       "20     Snorlax\n",
       "21      Zapdos\n",
       "22      Mewtwo\n",
       "23         Mew\n",
       "24     Moltres"
      ]
     },
     "execution_count": 127,
     "metadata": {},
     "output_type": "execute_result"
    }
   ],
   "source": [
    "query_uno = {\"next_evolution\": {\"$exists\":False}}\n",
    "query_dos = {\"prev_evolution\": {\"$exists\":False}}\n",
    "\n",
    "where = {\"$and\":[query_uno, query_dos]}\n",
    "select = {'name':1,'_id':0}\n",
    "\n",
    "datos = db.find(where, select)\n",
    "\n",
    "solucion = pd.DataFrame(datos)\n",
    "\n",
    "print(f\"El total de pokemon que no evoluciona y nunca ha evolucionado es {solucion.shape[0]} y son:\")\n",
    "pd.DataFrame(solucion)\n"
   ]
  },
  {
   "attachments": {},
   "cell_type": "markdown",
   "metadata": {},
   "source": [
    "- Se identifica todos los pokemon que de tipo dragón. En el filtro se incluye el dato sliceado."
   ]
  },
  {
   "cell_type": "code",
   "execution_count": 128,
   "metadata": {},
   "outputs": [
    {
     "name": "stdout",
     "output_type": "stream",
     "text": [
      "El total de Pokemo que al menos uno de sus tipos son 3: \n"
     ]
    },
    {
     "data": {
      "text/html": [
       "<div>\n",
       "<style scoped>\n",
       "    .dataframe tbody tr th:only-of-type {\n",
       "        vertical-align: middle;\n",
       "    }\n",
       "\n",
       "    .dataframe tbody tr th {\n",
       "        vertical-align: top;\n",
       "    }\n",
       "\n",
       "    .dataframe thead th {\n",
       "        text-align: right;\n",
       "    }\n",
       "</style>\n",
       "<table border=\"1\" class=\"dataframe\">\n",
       "  <thead>\n",
       "    <tr style=\"text-align: right;\">\n",
       "      <th></th>\n",
       "      <th>name</th>\n",
       "      <th>type</th>\n",
       "    </tr>\n",
       "  </thead>\n",
       "  <tbody>\n",
       "    <tr>\n",
       "      <th>0</th>\n",
       "      <td>Dratini</td>\n",
       "      <td>[Dragon]</td>\n",
       "    </tr>\n",
       "    <tr>\n",
       "      <th>1</th>\n",
       "      <td>Dragonair</td>\n",
       "      <td>[Dragon]</td>\n",
       "    </tr>\n",
       "    <tr>\n",
       "      <th>2</th>\n",
       "      <td>Dragonite</td>\n",
       "      <td>[Dragon]</td>\n",
       "    </tr>\n",
       "  </tbody>\n",
       "</table>\n",
       "</div>"
      ],
      "text/plain": [
       "        name      type\n",
       "0    Dratini  [Dragon]\n",
       "1  Dragonair  [Dragon]\n",
       "2  Dragonite  [Dragon]"
      ]
     },
     "execution_count": 128,
     "metadata": {},
     "output_type": "execute_result"
    }
   ],
   "source": [
    "where = {\"type\":\"Dragon\"}\n",
    "select = {\"_id\":0, 'name':1, 'type':{ \"$slice\": 1 } }\n",
    "\n",
    "\n",
    "\n",
    "datos = db.find(where, select)\n",
    "vb = pd.DataFrame(datos)\n",
    "\n",
    "print(f'El total de Pokemo que al menos uno de sus tipos son {vb.shape[0]}: ')\n",
    "\n",
    "vb"
   ]
  },
  {
   "attachments": {},
   "cell_type": "markdown",
   "metadata": {},
   "source": [
    "- Vamos a realizar un pipeline para saber la probabilidad de aparción por tipo."
   ]
  },
  {
   "cell_type": "code",
   "execution_count": 130,
   "metadata": {},
   "outputs": [
    {
     "data": {
      "text/html": [
       "<div>\n",
       "<style scoped>\n",
       "    .dataframe tbody tr th:only-of-type {\n",
       "        vertical-align: middle;\n",
       "    }\n",
       "\n",
       "    .dataframe tbody tr th {\n",
       "        vertical-align: top;\n",
       "    }\n",
       "\n",
       "    .dataframe thead th {\n",
       "        text-align: right;\n",
       "    }\n",
       "</style>\n",
       "<table border=\"1\" class=\"dataframe\">\n",
       "  <thead>\n",
       "    <tr style=\"text-align: right;\">\n",
       "      <th></th>\n",
       "      <th>_id</th>\n",
       "      <th>avg_a_swapn</th>\n",
       "    </tr>\n",
       "  </thead>\n",
       "  <tbody>\n",
       "    <tr>\n",
       "      <th>0</th>\n",
       "      <td>Dragon</td>\n",
       "      <td>0.107033</td>\n",
       "    </tr>\n",
       "    <tr>\n",
       "      <th>1</th>\n",
       "      <td>Fire</td>\n",
       "      <td>0.172567</td>\n",
       "    </tr>\n",
       "    <tr>\n",
       "      <th>2</th>\n",
       "      <td>Ice</td>\n",
       "      <td>0.175000</td>\n",
       "    </tr>\n",
       "    <tr>\n",
       "      <th>3</th>\n",
       "      <td>Rock</td>\n",
       "      <td>0.181444</td>\n",
       "    </tr>\n",
       "    <tr>\n",
       "      <th>4</th>\n",
       "      <td>Electric</td>\n",
       "      <td>0.189622</td>\n",
       "    </tr>\n",
       "    <tr>\n",
       "      <th>5</th>\n",
       "      <td>Fighting</td>\n",
       "      <td>0.217686</td>\n",
       "    </tr>\n",
       "    <tr>\n",
       "      <th>6</th>\n",
       "      <td>Ghost</td>\n",
       "      <td>0.282900</td>\n",
       "    </tr>\n",
       "    <tr>\n",
       "      <th>7</th>\n",
       "      <td>Grass</td>\n",
       "      <td>0.341050</td>\n",
       "    </tr>\n",
       "    <tr>\n",
       "      <th>8</th>\n",
       "      <td>Ground</td>\n",
       "      <td>0.355375</td>\n",
       "    </tr>\n",
       "    <tr>\n",
       "      <th>9</th>\n",
       "      <td>Psychic</td>\n",
       "      <td>0.470925</td>\n",
       "    </tr>\n",
       "    <tr>\n",
       "      <th>10</th>\n",
       "      <td>Water</td>\n",
       "      <td>0.742068</td>\n",
       "    </tr>\n",
       "    <tr>\n",
       "      <th>11</th>\n",
       "      <td>Poison</td>\n",
       "      <td>0.888793</td>\n",
       "    </tr>\n",
       "    <tr>\n",
       "      <th>12</th>\n",
       "      <td>Bug</td>\n",
       "      <td>1.397333</td>\n",
       "    </tr>\n",
       "    <tr>\n",
       "      <th>13</th>\n",
       "      <td>Normal</td>\n",
       "      <td>1.724325</td>\n",
       "    </tr>\n",
       "  </tbody>\n",
       "</table>\n",
       "</div>"
      ],
      "text/plain": [
       "         _id  avg_a_swapn\n",
       "0     Dragon     0.107033\n",
       "1       Fire     0.172567\n",
       "2        Ice     0.175000\n",
       "3       Rock     0.181444\n",
       "4   Electric     0.189622\n",
       "5   Fighting     0.217686\n",
       "6      Ghost     0.282900\n",
       "7      Grass     0.341050\n",
       "8     Ground     0.355375\n",
       "9    Psychic     0.470925\n",
       "10     Water     0.742068\n",
       "11    Poison     0.888793\n",
       "12       Bug     1.397333\n",
       "13    Normal     1.724325"
      ]
     },
     "execution_count": 130,
     "metadata": {},
     "output_type": "execute_result"
    }
   ],
   "source": [
    "fase_uno =  { \"$addFields\": { \"type_main\": { \"$first\": \"$type\"} } } # Agregación del campo type_main para identificar el tipo principal.\n",
    "fase_dos = { \"$group\": { \"_id\": \"$type_main\", \"avg_a_swapn\": { \"$avg\": \"$spawn_chance\" } } } # Agrupar por tipo principal y cálculo de media de aparición.\n",
    "fase_tres = { \"$sort\": { \"avg_a_swapn\" :1 } } # Ordenar el dataframe\n",
    "pipeline = [fase_uno, fase_dos, fase_tres]\n",
    "\n",
    "salida_pipeline = db.aggregate(pipeline)\n",
    "\n",
    "df_pipeline = pd.DataFrame(salida_pipeline)\n",
    "\n",
    "df_pipeline"
   ]
  },
  {
   "attachments": {},
   "cell_type": "markdown",
   "metadata": {},
   "source": [
    "- Gráfica de aparición"
   ]
  },
  {
   "cell_type": "code",
   "execution_count": 134,
   "metadata": {},
   "outputs": [
    {
     "data": {
      "image/png": "[encoded data removed]",
      "text/plain": [
       "<Figure size 640x480 with 1 Axes>"
      ]
     },
     "metadata": {},
     "output_type": "display_data"
    },
    {
     "data": {
      "text/plain": [
       "<ggplot: (141239639381)>"
      ]
     },
     "execution_count": 134,
     "metadata": {},
     "output_type": "execute_result"
    }
   ],
   "source": [
    "\n",
    "(\n",
    "    ggplot(df_pipeline)\n",
    "    + aes(x = '_id',\n",
    "          y='avg_a_swapn',\n",
    "          fill='avg_a_swapn')\n",
    "    +geom_col(position ='dodge')\n",
    "    + coord_flip() # gira el eje\n",
    "    + theme_linedraw()\n",
    "     + theme_xkcd()\n",
    "    \n",
    ")"
   ]
  },
  {
   "attachments": {},
   "cell_type": "markdown",
   "metadata": {},
   "source": [
    "**EXPLICACIÓN**\n",
    "\n",
    "***1*** Hemos realizado la creación de la base de datos a través de Python, para ello, hemos utilizado un fichero en formato tipo json. Tras leer el fichero y parsearlo con la librería *json* hemos creado un diccionario. Este diccionario, lo hemos recorrido para poder hacer un insert de cada documento en la BBDD.\n",
    "\n",
    "***2*** Se ha trabajado con la BBDD en funciones de filtrado para identificar el número de Pokemon que ya estaban en su fase final y así como todos los que no tienen actualización. \n",
    "\n",
    "***3*** Se ha generado un proceso *pipeline* para identificar según la categoría la probabilidad media de aparación.\n",
    "\n",
    "***4*** Se ha hecho una representación gráfica de proceso pipeline."
   ]
  }
 ],
 "metadata": {
  "kernelspec": {
   "display_name": "Python 3",
   "language": "python",
   "name": "python3"
  },
  "language_info": {
   "codemirror_mode": {
    "name": "ipython",
    "version": 3
   },
   "file_extension": ".py",
   "mimetype": "text/x-python",
   "name": "python",
   "nbconvert_exporter": "python",
   "pygments_lexer": "ipython3",
   "version": "3.9.13"
  },
  "orig_nbformat": 4,
  "vscode": {
   "interpreter": {
    "hash": "b794a2d82cf538f7848fdf5708a36b78d0689eead481b83f68aeef1d72b6ce17"
   }
  }
 },
 "nbformat": 4,
 "nbformat_minor": 2
}
